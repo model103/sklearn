{
 "cells": [
  {
   "cell_type": "code",
   "execution_count": 33,
   "id": "7298c39e",
   "metadata": {},
   "outputs": [],
   "source": [
    "import os\n",
    "import imutils\n",
    "import cv2\n",
    "import numpy as np\n",
    "import joblib\n",
    "from scipy.cluster.vq import *"
   ]
  },
  {
   "cell_type": "code",
   "execution_count": 34,
   "id": "0100caa0",
   "metadata": {
    "scrolled": true
   },
   "outputs": [
    {
     "name": "stdout",
     "output_type": "stream",
     "text": [
      "image: Dataset/test/chicken/ILSVRC2012_val_00003606.JPEG, classes : ['chicken']\n",
      "image: Dataset/test/chicken/ILSVRC2012_val_00000911.JPEG, classes : ['chicken']\n",
      "image: Dataset/test/chicken/ILSVRC2012_val_00003605.JPEG, classes : ['fish']\n",
      "image: Dataset/test/chicken/ILSVRC2012_val_00004306.JPEG, classes : ['bird']\n",
      "image: Dataset/test/chicken/ILSVRC2012_val_00004463.JPEG, classes : ['chicken']\n",
      "image: Dataset/test/chicken/ILSVRC2012_val_00000329.JPEG, classes : ['dog']\n",
      "image: Dataset/test/dog/ILSVRC2012_val_00002150.JPEG, classes : ['bird']\n",
      "image: Dataset/test/dog/ILSVRC2012_val_00002288.JPEG, classes : ['dog']\n",
      "image: Dataset/test/dog/ILSVRC2012_val_00001164.JPEG, classes : ['bird']\n",
      "image: Dataset/test/dog/ILSVRC2012_val_00001141.JPEG, classes : ['dog']\n",
      "image: Dataset/test/dog/ILSVRC2012_val_00000613.JPEG, classes : ['dog']\n",
      "image: Dataset/test/dog/ILSVRC2012_val_00001848.JPEG, classes : ['dog']\n",
      "image: Dataset/test/fish/ILSVRC2012_val_00018075.JPEG, classes : ['chicken']\n",
      "image: Dataset/test/fish/ILSVRC2012_val_00002848.JPEG, classes : ['fish']\n",
      "image: Dataset/test/fish/ILSVRC2012_val_00003735.JPEG, classes : ['frog']\n",
      "image: Dataset/test/fish/ILSVRC2012_val_00010363.JPEG, classes : ['frog']\n",
      "image: Dataset/test/fish/ILSVRC2012_val_00021905.JPEG, classes : ['fish']\n",
      "image: Dataset/test/fish/ILSVRC2012_val_00023869.JPEG, classes : ['fish']\n",
      "image: Dataset/test/frog/ILSVRC2012_val_00003985.JPEG, classes : ['fish']\n",
      "image: Dataset/test/frog/ILSVRC2012_val_00003621.JPEG, classes : ['frog']\n",
      "image: Dataset/test/frog/ILSVRC2012_val_00006987.JPEG, classes : ['frog']\n",
      "image: Dataset/test/frog/ILSVRC2012_val_00003846.JPEG, classes : ['frog']\n",
      "image: Dataset/test/frog/ILSVRC2012_val_00000944.JPEG, classes : ['fish']\n",
      "image: Dataset/test/frog/ILSVRC2012_val_00001739.JPEG, classes : ['frog']\n",
      "image: Dataset/test/bird/ILSVRC2012_val_00004375.JPEG, classes : ['frog']\n",
      "image: Dataset/test/bird/ILSVRC2012_val_00004747.JPEG, classes : ['frog']\n",
      "image: Dataset/test/bird/ILSVRC2012_val_00002357.JPEG, classes : ['chicken']\n",
      "image: Dataset/test/bird/ILSVRC2012_val_00001556.JPEG, classes : ['frog']\n",
      "image: Dataset/test/bird/ILSVRC2012_val_00005336.JPEG, classes : ['bird']\n",
      "image: Dataset/test/bird/ILSVRC2012_val_00006597.JPEG, classes : ['dog']\n",
      "准确率: 0.5333333333333333\n"
     ]
    }
   ],
   "source": [
    "# 加载已训练的模型\n",
    "clf, classes_names, stdSlr, k, voc = joblib.load(\"classfication.pkl\")\n",
    "# 特征提取和train.py类似\n",
    "sift = cv2.SIFT_create()\n",
    "def predict_image(image_path):\n",
    "    # List where all the descriptors are stored\n",
    "    des_list = []\n",
    "    im = cv2.imread(image_path, cv2.IMREAD_GRAYSCALE)\n",
    "    im = cv2.resize(im, (300, 300))\n",
    "    kpts = sift.detect(im)\n",
    "    kpts, des = sift.compute(im, kpts)\n",
    "    des_list.append((image_path, des))\n",
    "    descriptors = des_list[0][1]\n",
    "    for image_path, descriptor in des_list[0:]:\n",
    "        descriptors = np.vstack((descriptors, descriptor))\n",
    "    test_features = np.zeros((1, k), \"float32\")\n",
    "    words, distance = vq(des_list[0][1], voc)\n",
    "    for w in words:\n",
    "        test_features[0][w] += 1\n",
    "    # Perform Tf-Idf vectorization\n",
    "    nbr_occurences = np.sum((test_features > 0) * 1, axis=0)\n",
    "    idf = np.array(np.log((1.0 + 1) / (1.0 * nbr_occurences + 1)), 'float32')\n",
    "    # Scale the features\n",
    "    test_features = stdSlr.transform(test_features)\n",
    "    # Perform the predictions\n",
    "    predictions = [classes_names[i] for i in clf.predict(test_features)]\n",
    "    return predictions\n",
    "if __name__ == \"__main__\":\n",
    "    test_path = \"Dataset/test/\"\n",
    "    testing_names = os.listdir(test_path)\n",
    "    image_paths = []\n",
    "    for training_name in testing_names:\n",
    "        dir = os.path.join(test_path, training_name)\n",
    "        class_path = [os.path.join(dir, f) for f in os.listdir(dir)]\n",
    "        image_paths += class_path\n",
    "    bingo = 1.0\n",
    "    for image_path in image_paths:\n",
    "        predictions = predict_image(image_path)\n",
    "        print(\"image: %s, classes : %s\"%(image_path, predictions))\n",
    "        if '.'.join(predictions) in image_path:\n",
    "            bingo += 1\n",
    "    print(\"准确率:\", bingo / len(image_paths))"
   ]
  },
  {
   "cell_type": "code",
   "execution_count": null,
   "id": "0f5d4b56",
   "metadata": {},
   "outputs": [],
   "source": []
  },
  {
   "cell_type": "code",
   "execution_count": null,
   "id": "4ea6cfe7",
   "metadata": {},
   "outputs": [],
   "source": []
  }
 ],
 "metadata": {
  "kernelspec": {
   "display_name": "Python 3 (ipykernel)",
   "language": "python",
   "name": "python3"
  },
  "language_info": {
   "codemirror_mode": {
    "name": "ipython",
    "version": 3
   },
   "file_extension": ".py",
   "mimetype": "text/x-python",
   "name": "python",
   "nbconvert_exporter": "python",
   "pygments_lexer": "ipython3",
   "version": "3.7.13"
  }
 },
 "nbformat": 4,
 "nbformat_minor": 5
}
